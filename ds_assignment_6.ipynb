{
 "cells": [
  {
   "cell_type": "markdown",
   "id": "cd53ad72-d7ab-43fd-bc0e-5cb9a964bdc1",
   "metadata": {},
   "source": [
    "Q1. You are writing code for a company. The requirement of the company is that you create a python\r\n",
    "function that will check whether the password entered by the user is correct or not. The function should\r\n",
    "take the password as input and return the string “Valid Password” if the entered password follows the\r\n",
    "below-given password guidelines else it should return “Invalid Password”.\r\n",
    "Note: 1. The Password should contain at least two uppercase letters and at least two lowercase letters.\r\n",
    "2. The Password should contain at least a number and three special characters.\r\n",
    "3. The length of the password should be 10 characters long."
   ]
  },
  {
   "cell_type": "code",
   "execution_count": 9,
   "id": "ec1f6df6-364c-4ea6-8781-2616ce4f04e2",
   "metadata": {},
   "outputs": [],
   "source": [
    "def fun(s):\n",
    "    c1,c2,c3,c4,=0,0,0,0\n",
    "    if len(s)==10:\n",
    "        for char in s:\n",
    "            if char.islower():\n",
    "                c1+=1\n",
    "            if char.isupper():\n",
    "                c2+=1\n",
    "            if char.isdigit():\n",
    "                c3+=1\n",
    "            elif char is not char.isalpha() or char.isdigit():\n",
    "                c4+=1\n",
    "    if c1>=2 and c2>=2 and c3>=1 and c4>=3:\n",
    "        print(\"Valid Password\")\n",
    "    else:\n",
    "        print(\"Invalid Password\")      "
   ]
  },
  {
   "cell_type": "code",
   "execution_count": 12,
   "id": "51ba16c3-89b7-41e7-b5f7-0461f656d587",
   "metadata": {},
   "outputs": [
    {
     "name": "stdout",
     "output_type": "stream",
     "text": [
      "Valid Password\n"
     ]
    }
   ],
   "source": [
    "s='PAss@#$345'\n",
    "fun(s)"
   ]
  },
  {
   "cell_type": "markdown",
   "id": "24d971b2-ce5d-4c07-9cbf-542eadf0c7c5",
   "metadata": {},
   "source": [
    "Q2. Solve the below-given questions using at least one of the following:\r\n",
    "1. Lambda functioJ\r\n",
    "2. Filter functioJ\r\n",
    "m. Zap functioJ\r\n",
    "4. List Comprehens.oI\r\n",
    "B Check if the string starts with a particular l.t.erY\r\n",
    "B Check if the string is n.m.ricY\r\n",
    "B Sort a list of tuples having fruit names and their quantity. [(\"mango\",99),(\"orange\",80), (\"grapes\"] .000)-\r\n",
    "B Find the squares of numbers from.1.to 10Y\r\n",
    "B Find the cube root of numbers fro. . to 10Y\r\n",
    "B Check if a given numb.r.is evenY\r\n",
    "B Filter odd numbers from the given list.\r\n",
    "[1,2,3,4,],.,7,8,9,10-\r\n",
    "B Sort a list of integers into positive and negative integers lists.\r\n",
    "[1,2,3,4,5,6,-1,-2,-3,-4,-5,0]-2,-3,-4,-5,0]"
   ]
  },
  {
   "cell_type": "markdown",
   "id": "d636d014-4c29-4562-a984-e9d512adca66",
   "metadata": {},
   "source": [
    " Check if the string starts with a particular letter."
   ]
  },
  {
   "cell_type": "code",
   "execution_count": 23,
   "id": "c41f46d2-68c5-4f11-8553-15709e815ec4",
   "metadata": {},
   "outputs": [
    {
     "data": {
      "text/plain": [
       "'S'"
      ]
     },
     "execution_count": 23,
     "metadata": {},
     "output_type": "execute_result"
    }
   ],
   "source": [
    "# 1)\n",
    "s='String'\n",
    "a=lambda x:x[0]\n",
    "a(s)"
   ]
  },
  {
   "cell_type": "markdown",
   "id": "7439f05c-5d1f-4c9b-9bc3-efc8d8dc3bf3",
   "metadata": {},
   "source": [
    ". Check if the string is numeric."
   ]
  },
  {
   "cell_type": "code",
   "execution_count": 35,
   "id": "d4109110-fcba-4409-a4d7-604126ed25bc",
   "metadata": {},
   "outputs": [
    {
     "name": "stdout",
     "output_type": "stream",
     "text": [
      "string have numrics\n"
     ]
    }
   ],
   "source": [
    "#2)\n",
    "S='25364724'\n",
    "b=list(filter(lambda x: x.isdigit(),S))\n",
    "if len(b)!=0:\n",
    "    print(\"string have numrics\")\n",
    "    "
   ]
  },
  {
   "cell_type": "markdown",
   "id": "fa210867-18cc-4417-8741-7fad1eecc5ee",
   "metadata": {},
   "source": [
    ". Sort a list of tuples having fruit names and their quantity. [(\"mango\",99),(\"orange\",80), (\"grapes\", 1000)]"
   ]
  },
  {
   "cell_type": "code",
   "execution_count": 54,
   "id": "44bfae67-a8d3-49dc-b540-2ab5e9cdebe4",
   "metadata": {},
   "outputs": [
    {
     "name": "stdout",
     "output_type": "stream",
     "text": [
      "[('orange', 80), ('mango', 99), ('grapes', 1000)]\n"
     ]
    }
   ],
   "source": [
    "#3)\n",
    "l=[(\"mango\",99),(\"orange\",80), (\"grapes\", 1000)]\n",
    "sorted_fruits = sorted(l, key=lambda x: x[1])\n",
    "print(sorted_fruits)\n"
   ]
  },
  {
   "cell_type": "markdown",
   "id": "9f570ea7-7c9a-40c0-b2cf-0ef0501603ad",
   "metadata": {},
   "source": [
    "4) Find the squares of numbers from 1 to 10."
   ]
  },
  {
   "cell_type": "code",
   "execution_count": 44,
   "id": "9942ced2-46aa-4184-8f37-67d57e5fa92c",
   "metadata": {},
   "outputs": [
    {
     "name": "stdout",
     "output_type": "stream",
     "text": [
      "[1, 4, 9, 16, 25, 36, 49, 64, 81, 100]\n"
     ]
    }
   ],
   "source": [
    "#4)\n",
    "a=[i**2 for i in range(1,11)]\n",
    "print(a)"
   ]
  },
  {
   "cell_type": "markdown",
   "id": "f57c7b38-4fbe-4398-8fed-4145d830e99a",
   "metadata": {},
   "source": [
    "5.. Find the cube root of numbers from 1 to 10."
   ]
  },
  {
   "cell_type": "code",
   "execution_count": 45,
   "id": "5a64ee1a-2c08-43a1-8b72-f5350c4c0b6d",
   "metadata": {},
   "outputs": [
    {
     "name": "stdout",
     "output_type": "stream",
     "text": [
      "[1, 8, 27, 64, 125, 216, 343, 512, 729, 1000]\n"
     ]
    }
   ],
   "source": [
    "# 5)\n",
    "b=[i**3 for i in range(1,11)]\n",
    "print(b)"
   ]
  },
  {
   "cell_type": "markdown",
   "id": "178ed78c-b18e-42c6-ae01-4d12f0f62f49",
   "metadata": {},
   "source": [
    "6). Check if a given number is even."
   ]
  },
  {
   "cell_type": "code",
   "execution_count": 49,
   "id": "e0f7a296-21ad-498b-afdd-d9481f85d337",
   "metadata": {},
   "outputs": [
    {
     "name": "stdin",
     "output_type": "stream",
     "text": [
      " 4\n"
     ]
    },
    {
     "name": "stdout",
     "output_type": "stream",
     "text": [
      "this is an even number\n"
     ]
    }
   ],
   "source": [
    "# 6)\n",
    "n=int(input())\n",
    "a=lambda X:X%2==0\n",
    "if a(n):\n",
    "    print(\"this is an even number\")"
   ]
  },
  {
   "cell_type": "markdown",
   "id": "fb83a622-6c9c-4999-9dcd-a48d9ecb8713",
   "metadata": {},
   "source": [
    "7). Filter odd numbers from the given list.\n",
    "[1,2,3,4,5,6,7,8,9,10]"
   ]
  },
  {
   "cell_type": "code",
   "execution_count": 53,
   "id": "678be13d-e152-4235-8758-a3a734895df3",
   "metadata": {},
   "outputs": [
    {
     "name": "stdout",
     "output_type": "stream",
     "text": [
      "[1, 3, 5, 7, 9]\n"
     ]
    }
   ],
   "source": [
    "# 7)\n",
    "l=[1,2,3,4,5,6,7,8,9,10]\n",
    "a=list(filter(lambda x:x%2!=0,l))\n",
    "print(a)"
   ]
  },
  {
   "cell_type": "markdown",
   "id": "53c5b59e-534f-4c9b-a4a2-67c1bbb9cec9",
   "metadata": {},
   "source": [
    ". Sort a list of integers into positive and negative integers lists.\n",
    "[1,2,3,4,5,6,-1,-2,-3,-4,-5,0]"
   ]
  },
  {
   "cell_type": "markdown",
   "id": "cfa4d264-deae-4932-b5bb-3f04e36fa7df",
   "metadata": {},
   "source": [
    "8) Sort a list of integers into positive and negative integers lists.\n",
    "[1,2,3,4,5,6,-1,-2,-3,-4,-5,0]"
   ]
  },
  {
   "cell_type": "code",
   "execution_count": 55,
   "id": "17946a51-0da2-44c9-989f-1c9997ad6653",
   "metadata": {},
   "outputs": [
    {
     "name": "stdout",
     "output_type": "stream",
     "text": [
      "Positive Integers: [1, 2, 3, 4, 5, 6]\n",
      "Negative Integers: [-1, -2, -3, -4, -5]\n"
     ]
    }
   ],
   "source": [
    "# 8)\n",
    "numbers = [1, 2, 3, 4, 5, 6, -1, -2, -3, -4, -5, 0]\n",
    "positive_numbers = list(filter(lambda x: x > 0, numbers))\n",
    "negative_numbers = list(filter(lambda x: x < 0, numbers))\n",
    "print(\"Positive Integers:\", positive_numbers)\n",
    "print(\"Negative Integers:\", negative_numbers)\n"
   ]
  },
  {
   "cell_type": "code",
   "execution_count": null,
   "id": "e1b2bd81-0b97-4233-a2c6-50e1702e576d",
   "metadata": {},
   "outputs": [],
   "source": []
  }
 ],
 "metadata": {
  "kernelspec": {
   "display_name": "Python 3 (ipykernel)",
   "language": "python",
   "name": "python3"
  },
  "language_info": {
   "codemirror_mode": {
    "name": "ipython",
    "version": 3
   },
   "file_extension": ".py",
   "mimetype": "text/x-python",
   "name": "python",
   "nbconvert_exporter": "python",
   "pygments_lexer": "ipython3",
   "version": "3.11.4"
  }
 },
 "nbformat": 4,
 "nbformat_minor": 5
}
